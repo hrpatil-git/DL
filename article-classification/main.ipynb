{
 "cells": [
  {
   "attachments": {},
   "cell_type": "markdown",
   "id": "e46962ec",
   "metadata": {},
   "source": [
    "# Tech/Business News Article Classification using ALBERT-V2: A Deep Learning Approach"
   ]
  },
  {
   "attachments": {},
   "cell_type": "markdown",
   "id": "4e1c49d8",
   "metadata": {},
   "source": [
    "### Team : Harshwardhan Patil, Avinash Pawar, Aoi Minamoto"
   ]
  },
  {
   "attachments": {},
   "cell_type": "markdown",
   "id": "5cb32f5c",
   "metadata": {},
   "source": [
    "#### Brief Description:\n",
    "For this question we've generated two text categories with a 100 different texts. The categories are Tech Articles and Business Articles.\n",
    "For genration of text we have used News API and we are fetching english language news for Technology and Business catagories."
   ]
  },
  {
   "cell_type": "code",
   "execution_count": 1,
   "id": "44f6857e",
   "metadata": {},
   "outputs": [],
   "source": [
    "# Supresses NonCritical Warnings of Tensorflow\n",
    "import os\n",
    "os.environ['TF_CPP_MIN_LOG_LEVEL'] = '3'"
   ]
  },
  {
   "cell_type": "code",
   "execution_count": 2,
   "id": "5b1093b7",
   "metadata": {},
   "outputs": [
    {
     "name": "stdout",
     "output_type": "stream",
     "text": [
      "1 Physical GPUs, 1 Logical GPUs\n"
     ]
    }
   ],
   "source": [
    "# This code imports the TensorFlow library and then enables memory growth for GPU devices, if any are available.\n",
    "# Important for some runtime errors during model execution\n",
    "import tensorflow as tf\n",
    "\n",
    "# Enable memory growth\n",
    "gpus = tf.config.list_physical_devices('GPU')\n",
    "if gpus:\n",
    "    try:\n",
    "        # Currently, memory growth needs to be the same across GPUs\n",
    "        for gpu in gpus:\n",
    "            tf.config.experimental.set_memory_growth(gpu, True)\n",
    "        logical_gpus = tf.config.experimental.list_logical_devices('GPU')\n",
    "        print(len(gpus), \"Physical GPUs,\", len(logical_gpus), \"Logical GPUs\")\n",
    "    except RuntimeError as e:\n",
    "        # Memory growth must be set before GPUs have been initialized\n",
    "        print(e)"
   ]
  },
  {
   "attachments": {},
   "cell_type": "markdown",
   "id": "e0398dbd",
   "metadata": {},
   "source": [
    "### Import required libraries"
   ]
  },
  {
   "cell_type": "code",
   "execution_count": 3,
   "id": "3781ae89",
   "metadata": {},
   "outputs": [],
   "source": [
    "import requests\n",
    "import pandas as pd\n",
    "import numpy as np\n",
    "from sklearn.utils import shuffle\n",
    "from sklearn.model_selection import train_test_split\n",
    "from transformers import AutoTokenizer, TFAutoModelForSequenceClassification\n",
    "from tensorflow.keras.optimizers import Adam\n",
    "import evaluate"
   ]
  },
  {
   "attachments": {},
   "cell_type": "markdown",
   "id": "be42a631",
   "metadata": {},
   "source": [
    "### Data Fetching through API"
   ]
  },
  {
   "cell_type": "code",
   "execution_count": 4,
   "id": "69466c8a",
   "metadata": {},
   "outputs": [],
   "source": [
    "# set the API endpoint URL\n",
    "url = 'https://newsapi.org/v2/top-headlines'"
   ]
  },
  {
   "cell_type": "code",
   "execution_count": 5,
   "id": "843eeb20",
   "metadata": {},
   "outputs": [
    {
     "name": "stdout",
     "output_type": "stream",
     "text": [
      "Funko Fusion teaser trailer, screenshots\n",
      "Grounded unearths three new achievements with Super Duper Update\n",
      "AMD's new Ryzen 7000 X3D CPUs have burnt out for some, and a BIOS update could prevent it\n",
      "Use WhatsApp on multiple phones, new feature to help businesses\n",
      "'Star Trek: Resurgence' launches May 23rd on most platforms\n",
      "iOS 17 Rumored to Add New Lock Screen, Apple Music, and App Library Features\n",
      "Haier QLED TV launched in India: Price, features and more\n",
      "Samsung's Galaxy Watch 5 has dropped to a new all-time low\n",
      "AMD’s Ryzen Z1 chips could power a new wave of handheld Steam Deck clones\n",
      "First Ride: The New GT Sensor Loses Weight, Gains Travel\n",
      "Google makes a Pixel Watch stand, sort of...\n",
      "Nokia G11 Plus starts receiving Android 13 update\n",
      "No, Croma is not selling iPhone 13 for Rs 38990 in India: Here are the details\n",
      "AMD announces Ryzen Z1 series chipsets for handheld gaming consoles\n",
      "Strayed Lights – Launch Trailer – Nintendo Switch\n",
      "Official Nintendo Switch ﻿SD Card Line Expands With 1TB Zelda Card And Cute Yoshi Design\n",
      "Magic: The Gathering Fan: Pinkertons Threatened Jail Over Cards\n",
      "Honkai: Star Rail Butterfly on Swordtip Selee event warp: Release date, Light Cone banner, and more\n",
      "Google Authenticator now backs up your 2FA codes to the cloud\n",
      "Samba De Amigo: Party Central's Song List Has Ariana Grande Headlining\n",
      "OpenAI Is Trying Hard to Quickly Trademark 'GPT'\n",
      "Apple's New Headset Could Run 'Hundreds of Thousands' of iPad Apps, Report Says\n",
      "Blizzard's Departure From China Could Cost It $44 Million Thanks To A Lawsuit\n",
      "You can now use one WhatsApp account on two or more phones\n",
      "New Star Wars Amazon Echo Dot Stands Launch For May the 4th\n",
      "BIG surprise! Samsung Galaxy Z Fold 5, Galaxy Z Flip 5 can launch ahead of schedule\n",
      "HP's latest 12th Gen Chromebook x360 is already on sale\n",
      "Asus ROG Ally Specs Reveal A Powerful New Steam Deck Competitor\n",
      "Realme 11 Pro to feature curved display, latest teaser confirms\n",
      "Asus reveals more details on its Ryzen Z1 powered ROG Ally handheld PC\n",
      "Asus Ally Hands-On: A New Take on Handheld PC Gaming\n",
      "WhatsApp adds option to use the same account on multiple phones\n",
      "Apple Productivity Tools: Tips on how to make best use of Notes and Reminders apps\n",
      "6 Birthday Gifts for Wife: Surprise her with the perfect present for her special day\n",
      "OnePlus Pad will cost $479 in the US, ships May 8\n",
      "Funko Fusion\n",
      "Valorant 6.08 update patch notes: Killjoy buffs, Gekko changes & more\n",
      "Google's Pixel Fold Seems Like a Sure Bet, but Where's the Foldable iPhone?\n",
      "Slack rolls out its 'canvas' for sharing content with your team\n",
      "Get Online Multiplayer on the NES With This Custom Cartridge\n",
      "iPhone 11 price cut to just Rs. 14749! You can own the phone investment guru Warren Buffett uses\n",
      "Garena Free Fire MAX Redeem Codes April 26: Get FREE rewards from the ACTIVE Codes, CHECK DETAILS\n",
      "AI tech can crack common passwords with stunning speed, researchers find\n",
      "Amazfit GTR 4 Limited Edition announced with stainless steel frame\n",
      "AMD Introduces Ryzen™ Z1 Series Processors, Expanding the\n",
      "OpenAI among vendors that tune Notion's artificial intelligence model\n",
      "NVIDIA made an open source tool for creating safer and more secure AI models\n",
      "DJI's Mavic 3 Pro comes with a triple-camera setup\n",
      "AutoGPT and AgentGPT: How to Set Up These AI Agents?\n",
      "Nvidia releases a toolkit to make text-generating AI ‘safer’\n",
      "Microsoft may stop bundling Teams with Office amid antitrust probe threat\n",
      "5 things you didn’t know you can do on an Android\n",
      "Afterimage\n",
      "Nvidia has a new way to prevent A.I. chatbots from 'hallucinating' wrong facts\n",
      "DJI’s new Mavic 3 Pro and Pro Cine add a new medium-tele camera\n",
      "Don’t Freak Out If It Looks Like ‘Destiny 2’ Just Deleted Your Characters\n",
      "Zelda: Tears of the Kingdom TV spot suggests we'll head deep underground\n",
      "Invest in our Planet, Sustainably, a message by Mooofarm Founder & CEO, Param Singh\n",
      "Vodafone Idea Brings Wi-Fi Calling for Users in Kerala and Karnataka\n",
      "Moving Images with No Effort: Text2Video-Zero is an AI Model That Converts Text-to-Image Models to Zero-Shot Video Generators\n",
      "BMW brings its Digital Key Plus feature to Samsung Galaxy and Pixel phones\n",
      "Metacritic pledges stricter moderation after 'abusive' Horizon: Forbidden West DLC review bombing\n",
      "Apex Legends' newest hero Ballistic is wine-fuelled, retired, and deadly\n",
      "Apple Releases Updates to Apple Music and TV Preview Apps for Windows\n",
      "OnePlus Pad And Tablet Prices Revealed; Pre-Order Starts On April 28\n",
      "Boult Audio launches Rover smartwatch Rover Pro\n",
      "AI Can Be a Tool for More Efficient Game Development, Says Sony Veteran\n",
      "PSA: Star Wars Jedi Survivor Spoilers Have Leaked Online\n",
      "Google Authenticator gets cloud backup support\n",
      "Apple to drop support for these iPad models with launch of iPadOS 17, check list\n",
      "Gold-plated Bay Area mansion gets the internet's attention\n",
      "Slack’s Canvas feature puts docs inside your chats — here’s how it works\n",
      "Realme UI 4.0: How To Change Device Name on Realme Smartphone\n",
      "Inventor of Blue Jeans Channels a New Water-Saving Idea\n",
      "Microsoft Could Stop Offering Teams With Office To Avoid EU Antitrust Probe\n",
      "JioCinema To Start Charging Users Soon? Know More As Premium Subscription Plans Leak Online\n",
      "Malaria Treating Quinine As An Ingredient of Tonic Water: Are There Any Health Benefits?\n",
      "BMW’s Digital Key Plus feature is finally supported on Android devices\n",
      "Foldable Pixel Phone Leaked: Leaked video shows what might be Google’s first foldable device\n",
      "Forefront Chat has unlocked access to GPT-4's features for free: Here’s how to use it\n",
      "Moto Razr 2023 to come with bigger external display, may launch soon\n",
      "Diablo IV Final PC System Requirements Revealed; RTX 3080, RX 6800 XT Recommended For Ultra 4K\n",
      "Google Pixel Launcher search might soon find your Chrome tabs\n",
      "HP Pavilion X360 Overview\n",
      "BMW owners can now unlock their cars with Android phones\n",
      "Xenoblade Chronicles 3 Future Redeemed release time\n",
      "Poco F5 is arriving with Snapdragon 7+ Gen 2, 12 GB RAM\n",
      "HP Chromebook 15.6-inch Laptop Review: Strictly For Price-Conscious Young Buyers\n",
      "Snapchat users trash My AI chatbot, negative reviews pile up\n",
      "CS:GO Anubis Collection: All skins\n",
      "Mozilla Firefox Users Beware! Indian Government Issues Warning\n",
      "Pixel 7 gets flat Rs 15799 discount on Amazon, price drops to Rs 44200: 6 reasons to buy\n",
      "WhatsApp testing new broadcasting feature similar to Telegram's 'Channels'\n",
      "Samsung could hold Galaxy Z Flip 5 and Fold 5 launch event in South Korea\n",
      "Apple Captures Almost 50 Per Cent Of Refurbished Smartphone Market Globally\n",
      "Opera launches Opera One browser with a new tab grouping concept\n",
      "Nintendo changes Japanese name of villainous Super Mario character\n",
      "Apple's iPhone 15 Pro Max To Feature Upgraded Camera With 48-Megapixel Sensor\n",
      "Vivo X90, Vivo X90 Pro India prices leaked ahead of April 26 launch\n",
      "Fine Art Photographers Join Forces to Launch NFTs to Battle Climate Change\n"
     ]
    },
    {
     "data": {
      "text/plain": [
       "100"
      ]
     },
     "execution_count": 5,
     "metadata": {},
     "output_type": "execute_result"
    }
   ],
   "source": [
    "# set the request parameters\n",
    "params = {\n",
    "    'category': 'technology',\n",
    "    'language': 'en',\n",
    "    'pageSize': 100,\n",
    "    'apiKey': 'adefd8b37ba649039de179bdb9a70985'\n",
    "}\n",
    "\n",
    "# send the request and get the response\n",
    "response = requests.get(url, params=params)\n",
    "\n",
    "# get the 'articles' list from the response JSON data\n",
    "articles = response.json()['articles']\n",
    "\n",
    "# extract the titles from the articles aslo splitting the source from titles\n",
    "Tech_titles = [article['title'].split(' - ')[0].split(' | ')[0] for article in articles]\n",
    "\n",
    "# print the titles\n",
    "for title in Tech_titles:\n",
    "    print(title)\n",
    "    \n",
    "#check length\n",
    "len(Tech_titles)"
   ]
  },
  {
   "cell_type": "code",
   "execution_count": 6,
   "id": "80a65427",
   "metadata": {
    "scrolled": false
   },
   "outputs": [
    {
     "name": "stdout",
     "output_type": "stream",
     "text": [
      "We spent $100,000 on an abandoned high school, and $3.3 million to convert it into apartments—take a look inside\n",
      "3M to cut 6,000 jobs in second round of layoffs this year\n",
      "First Republic Stock Plummets to a New Low, Drags Down Other Regionals\n",
      "Dow Jones Losses Deepen In Afternoon Trading As Google, Microsoft Earnings Loom\n",
      "FDA grants accelerated approval for Biogen ALS drug that treats rare form of the disease\n",
      "Terra co-founder Daniel Shin charged with fraud in South Korea\n",
      "GM, Hyundai announce EV battery plants for the US\n",
      "Kim Foxx won't seek reelection as Cook County State's Attorney, Chicago DA\n",
      "U.S. regulators warn they already have the power to go after A.I. bias — and they're ready to use it\n",
      "‘Vampire’ straw found hidden in traveler’s backpack at Boston airport, cops say\n",
      "Nate Silver Out at ABC News as Disney Layoffs Once Again Hit News Division\n",
      "UPS shares fall after delivery giant reports disappointing earnings\n",
      "Gap Plans to Lay Off Hundreds of Corporate Workers in Latest Cuts\n",
      "Halliburton's Q1 earnings validates our reasons for owning the stock\n",
      "Gujarat announces new policy for dividend distribution, bonus shares for state PSUs\n",
      "GM will stop making the Chevy Bolt EV and EUV later this year\n",
      "Americans are getting worried about the job market\n",
      "Microsoft Earnings Growth Likely Slowed Last Quarter Amid Economic Concerns\n",
      "McDonald's earnings: Sales growth tops estimates as prices, traffic boost results\n",
      "Stanford and MIT study: A.I. boosted worker productivity by 14%—those who use it 'will replace those who don't'\n",
      "Elon Musk says verified Twitter accounts now 'prioritized'\n",
      "Feds Charge British American Tobacco With Violating North Korea Sanctions\n",
      "3M to cut 6000 roles globally as weak consumer electronics demand bites\n",
      "Bitcoin price can ‘easily’ hit $20K in next 4 months — Philip Swift\n",
      "The 29 best Mother’s Day gifts for moms in 2023\n",
      "Lucid shares another look at its upcoming Gravity SUV as it begins public road testing [Video]\n",
      "Elon Musk may have accidentally leaked his burner account\n",
      "2024 Mercedes-Benz E-Class Targets Tech-Savvy Buyers\n",
      "Spotify CEO Ek: 'We'd like to raise prices in 2023' but only when 'timing is right'\n",
      "Flight attendants warn tense passengers as American Airlines plane engine shoots flames: 'little situation'\n",
      "New home sales rise for the fourth month in a row\n",
      "Morphic's oral UC data spurs Entyvio comparisons as IBD market heats up – Endpoints News\n",
      "What Is Voluntary Provident Fund? All You Need To Know\n",
      "Home prices rise for the first time in months as spring fever hits housing market\n",
      "Terra Co-Founder and Nine Staff Indicted for Role in Crypto Collapse\n",
      "Gold prices treading water just below $2000 as U.S. consumer confidence falls to 101.3 in April\n",
      "Endeavor Sells IMG Academy To Division Of Private Equity Firm EQT In All-Cash Deal Valued At $1.25 Billion\n",
      "The 10 highest-paying internships of 2023, according to Glassdoor—some pay over $9,000 a month\n",
      "RTX Stock Rises In Buy Zone After Cruising Past Earnings Forecasts, Reaffirming Outlook\n",
      "Jeff Shell investigated for CNBC's Hadley Gamble relationship\n",
      "Gold Price Forecast: XAU/USD volatile, between stronger Dollar and lower Treasury yields\n",
      "2023 Layoff Tracker: 3M Lays Off 6,000 While Disney Cuts 4,000\n",
      "Meta Needs a New Catalyst After Stock’s 77% Rally\n",
      "Verizon Earnings Beat Estimates. Why the Stock Is Dropping.\n",
      "GE Sales Rise on Demand for Jet Engines\n",
      "Amazon, Apple and more: EU names the Big Tech platforms set to face tougher regulatory scrutiny\n",
      "Air India pilots write to Ratan Tata, allege lack of respect and dignity by HR\n",
      "What Bed Bath & Beyond customers need to know about coupons, gift cards, return policy after bankruptcy filing\n",
      "Spotify CEO Daniel Ek Says Company Will Be “Very Diligent” In Assessing Further Podcast Investments As Talent Deal Renewals Loom\n",
      "Dalmia Bharat Q4 Results: Profit more than doubles to Rs 589 crore on low fuel costs\n",
      "When your boss is an algorithm\n",
      "Iranian Hackers Launch Sophisticated Attacks Targeting Israel with PowerLess Backdoor\n",
      "Man arrested after putting vampire straw in carry-on bag at Logan Airport, officials say\n",
      "Tesla Drops Model Y Starting Price Below the Average US Vehicle\n",
      "Alphabet to issue first-quarter results after markets close\n",
      "Wall Street analysts' top calls on Tuesday\n",
      "Mahindra Launches All-New Bolero MaXX Pik-Up Range, Price Starts At Rs 7.85 Lakh\n",
      "33 practical gift ideas for Mother’s Day 2023\n",
      "Busy with 3 program launches this year, Biogen trims pipeline\n",
      "Maruti Suzuki Fronx Sigma base variant walkaround [Video]\n",
      "Google, Amazon, Meta, Microsoft, 15 others subject to EU content rules\n",
      "Why do Indian employees feel they are underpaid?\n",
      "Nestle's Q4 earnings strong, to pay ₹27 per share dividend soon. Should you buy this FMCG stock?\n",
      "Bajaj Auto Q4 Results: Profit Falls, But Beats Estimates\n",
      "\"Less about people and more about profits\": Investors' role in next week's closure of San Antonio hospital under scrutiny\n",
      "Stock Market Today: Sensex, Nifty Rise For The Fourth Day As PSU Banks Gain; Consumer Durables Decline\n",
      "Nikola Expands Presence to Canada with Nikola Tre BEV and FCEV Truck and Hydrogen Mobile Fueler Order from Alberta Motor Transport Association\n",
      "Record High Manhattan Apartment Rents May Not Save Blackstone From Default\n",
      "City in New York to sue Kia, Hyundai over explosion of local vehicle thefts\n",
      "Stocks fall ahead of big tech earnings: Stock market news today\n",
      "UBS hit by old toxic debt costs ahead of 'hard' Credit Suisse task\n",
      "Tesla investor: Blue-check saga marks beginning of the end for Twitter\n",
      "UBS is still cleaning up from the last crisis. Now it must tackle Credit Suisse\n",
      "Former Cognizant CEO Brian Humphries was fired without reason\n",
      "Novartis cuts 10% of pipeline after R&D review – Endpoints News\n",
      "Updated: Biogen chops certain stroke and RNA therapy programs as it continues R&D revamp\n",
      "Raytheon Technologies Beats on Earnings, Raises Dividend\n",
      "Tata Consumer Products declares final dividend of 845%, scrip ended on a green note\n",
      "The Morning After: Apple wins appeals court ruling against Epic Games\n",
      "JetBlue posts quarterly loss but forecasts profit thanks to strong travel demand\n",
      "Halliburton Beats Earnings Expectations. Stock Still Falls.\n",
      "Is a recession coming by 2024? Here's what economists are saying.\n",
      "Maruti Suzuki upgrades its entire model range to conform to stricter emission norms\n",
      "Rupee Settles Flat At 81.92 Against US Dollar\n",
      "Verizon's tepid results underscore wireless slowdown, tough competition\n",
      "Novartis prunes assets, axing 10% of pipeline programs to narrow R&D focus\n",
      "Uday Kotak's XXXL shoes: The big change at Kotak Mahindra Bank\n",
      "Closing Bell: Market ends with marginal gains; PSU Bank, power shine\n",
      "3M Reports First-Quarter 2023 Results; Company Announces Restructuring Actions\n",
      "Jack Dorsey-Backed Decentralized Twitter Rival Prepares To Launch With One Million Users\n",
      "3M Reports First-Quarter 2023 Results; Company Announces Restructuring Actions\n",
      "PepsiCo (PEP) Q1 earnings report 2023\n",
      "UK regulator holding up Microsoft's Activision deal set to get new powers to rein in Big Tech\n",
      "Hiring in India's top 3 IT companies drops 65 percent in FY23 from last year\n",
      "UPS tempers 2023 revenue view as freight volumes remain strained\n",
      "Ford Jump Starts Its Attempt to Revive Detroit\n",
      "Rail Vikas Nigam zooms 20% after 12% equity changes hand on the NSE\n",
      "Indian banks unlikely to go SVB, Credit Suisse way as they can swim good in troubled waters\n",
      "ITC hits all-time high, pips Infosys to become 6th largest company\n",
      "ICICI Securities downgrades Yes Bank to ‘reduce’; stock trades in red\n"
     ]
    },
    {
     "data": {
      "text/plain": [
       "100"
      ]
     },
     "execution_count": 6,
     "metadata": {},
     "output_type": "execute_result"
    }
   ],
   "source": [
    "# set the request parameters\n",
    "params = {\n",
    "    'category': 'business',\n",
    "    'language': 'en',\n",
    "    'pageSize': 100,\n",
    "    'apiKey': 'adefd8b37ba649039de179bdb9a70985'\n",
    "}\n",
    "\n",
    "# send the request and get the response\n",
    "response = requests.get(url, params=params)\n",
    "\n",
    "# get the 'articles' list from the response JSON data\n",
    "articles = response.json()['articles']\n",
    "\n",
    "# extract the titles from the articles aslo splitting the source from titles\n",
    "Business_titles = [article['title'].split(' - ')[0].split(' | ')[0] for article in articles]\n",
    "\n",
    "# print the titles\n",
    "for title in Business_titles:\n",
    "    print(title)\n",
    "    \n",
    "#check length\n",
    "len(Business_titles)"
   ]
  },
  {
   "attachments": {},
   "cell_type": "markdown",
   "id": "9ce926de",
   "metadata": {},
   "source": [
    "### Loading Data"
   ]
  },
  {
   "cell_type": "code",
   "execution_count": 7,
   "id": "5ae5c8a2",
   "metadata": {},
   "outputs": [],
   "source": [
    "data_list = []\n",
    "for title in Tech_titles:\n",
    "    data_list.append({'sentence': str(title), 'label': 0}) \n",
    "\n",
    "for title in Business_titles:\n",
    "    data_list.append({'sentence': str(title), 'label': 1}) \n"
   ]
  },
  {
   "cell_type": "code",
   "execution_count": 8,
   "id": "22cf2561",
   "metadata": {},
   "outputs": [
    {
     "name": "stdout",
     "output_type": "stream",
     "text": [
      "                                              sentence  label\n",
      "0             Funko Fusion teaser trailer, screenshots      0\n",
      "1    Grounded unearths three new achievements with ...      0\n",
      "2    AMD's new Ryzen 7000 X3D CPUs have burnt out f...      0\n",
      "3    Use WhatsApp on multiple phones, new feature t...      0\n",
      "4    'Star Trek: Resurgence' launches May 23rd on m...      0\n",
      "..                                                 ...    ...\n",
      "195     Ford Jump Starts Its Attempt to Revive Detroit      1\n",
      "196  Rail Vikas Nigam zooms 20% after 12% equity ch...      1\n",
      "197  Indian banks unlikely to go SVB, Credit Suisse...      1\n",
      "198  ITC hits all-time high, pips Infosys to become...      1\n",
      "199  ICICI Securities downgrades Yes Bank to ‘reduc...      1\n",
      "\n",
      "[200 rows x 2 columns]\n"
     ]
    }
   ],
   "source": [
    "data = pd.DataFrame(data_list)\n",
    "print(data)"
   ]
  },
  {
   "attachments": {},
   "cell_type": "markdown",
   "id": "c641b5bb",
   "metadata": {},
   "source": [
    "### shuffling the data"
   ]
  },
  {
   "cell_type": "code",
   "execution_count": 9,
   "id": "4eaadbf9",
   "metadata": {},
   "outputs": [
    {
     "data": {
      "text/html": [
       "<div>\n",
       "<style scoped>\n",
       "    .dataframe tbody tr th:only-of-type {\n",
       "        vertical-align: middle;\n",
       "    }\n",
       "\n",
       "    .dataframe tbody tr th {\n",
       "        vertical-align: top;\n",
       "    }\n",
       "\n",
       "    .dataframe thead th {\n",
       "        text-align: right;\n",
       "    }\n",
       "</style>\n",
       "<table border=\"1\" class=\"dataframe\">\n",
       "  <thead>\n",
       "    <tr style=\"text-align: right;\">\n",
       "      <th></th>\n",
       "      <th>sentence</th>\n",
       "      <th>label</th>\n",
       "    </tr>\n",
       "  </thead>\n",
       "  <tbody>\n",
       "    <tr>\n",
       "      <th>155</th>\n",
       "      <td>Wall Street analysts' top calls on Tuesday</td>\n",
       "      <td>1</td>\n",
       "    </tr>\n",
       "    <tr>\n",
       "      <th>175</th>\n",
       "      <td>Updated: Biogen chops certain stroke and RNA t...</td>\n",
       "      <td>1</td>\n",
       "    </tr>\n",
       "    <tr>\n",
       "      <th>124</th>\n",
       "      <td>The 29 best Mother’s Day gifts for moms in 2023</td>\n",
       "      <td>1</td>\n",
       "    </tr>\n",
       "    <tr>\n",
       "      <th>11</th>\n",
       "      <td>Nokia G11 Plus starts receiving Android 13 update</td>\n",
       "      <td>0</td>\n",
       "    </tr>\n",
       "    <tr>\n",
       "      <th>23</th>\n",
       "      <td>You can now use one WhatsApp account on two or...</td>\n",
       "      <td>0</td>\n",
       "    </tr>\n",
       "  </tbody>\n",
       "</table>\n",
       "</div>"
      ],
      "text/plain": [
       "                                              sentence  label\n",
       "155         Wall Street analysts' top calls on Tuesday      1\n",
       "175  Updated: Biogen chops certain stroke and RNA t...      1\n",
       "124    The 29 best Mother’s Day gifts for moms in 2023      1\n",
       "11   Nokia G11 Plus starts receiving Android 13 update      0\n",
       "23   You can now use one WhatsApp account on two or...      0"
      ]
     },
     "execution_count": 9,
     "metadata": {},
     "output_type": "execute_result"
    }
   ],
   "source": [
    "data = shuffle(data, random_state=987654321)\n",
    "data.head()"
   ]
  },
  {
   "attachments": {},
   "cell_type": "markdown",
   "id": "397cd33f",
   "metadata": {},
   "source": [
    "### Splitting into Test and Train data"
   ]
  },
  {
   "cell_type": "code",
   "execution_count": 10,
   "id": "7579f529",
   "metadata": {},
   "outputs": [],
   "source": [
    "X_train = data.drop('label', axis=1)\n",
    "y_train = data['label']"
   ]
  },
  {
   "cell_type": "code",
   "execution_count": 11,
   "id": "c81b0376",
   "metadata": {},
   "outputs": [
    {
     "data": {
      "text/html": [
       "<div>\n",
       "<style scoped>\n",
       "    .dataframe tbody tr th:only-of-type {\n",
       "        vertical-align: middle;\n",
       "    }\n",
       "\n",
       "    .dataframe tbody tr th {\n",
       "        vertical-align: top;\n",
       "    }\n",
       "\n",
       "    .dataframe thead th {\n",
       "        text-align: right;\n",
       "    }\n",
       "</style>\n",
       "<table border=\"1\" class=\"dataframe\">\n",
       "  <thead>\n",
       "    <tr style=\"text-align: right;\">\n",
       "      <th></th>\n",
       "      <th>sentence</th>\n",
       "    </tr>\n",
       "  </thead>\n",
       "  <tbody>\n",
       "    <tr>\n",
       "      <th>128</th>\n",
       "      <td>Spotify CEO Ek: 'We'd like to raise prices in ...</td>\n",
       "    </tr>\n",
       "    <tr>\n",
       "      <th>66</th>\n",
       "      <td>AI Can Be a Tool for More Efficient Game Devel...</td>\n",
       "    </tr>\n",
       "    <tr>\n",
       "      <th>153</th>\n",
       "      <td>Tesla Drops Model Y Starting Price Below the A...</td>\n",
       "    </tr>\n",
       "    <tr>\n",
       "      <th>139</th>\n",
       "      <td>Jeff Shell investigated for CNBC's Hadley Gamb...</td>\n",
       "    </tr>\n",
       "    <tr>\n",
       "      <th>71</th>\n",
       "      <td>Slack’s Canvas feature puts docs inside your c...</td>\n",
       "    </tr>\n",
       "  </tbody>\n",
       "</table>\n",
       "</div>"
      ],
      "text/plain": [
       "                                              sentence\n",
       "128  Spotify CEO Ek: 'We'd like to raise prices in ...\n",
       "66   AI Can Be a Tool for More Efficient Game Devel...\n",
       "153  Tesla Drops Model Y Starting Price Below the A...\n",
       "139  Jeff Shell investigated for CNBC's Hadley Gamb...\n",
       "71   Slack’s Canvas feature puts docs inside your c..."
      ]
     },
     "execution_count": 11,
     "metadata": {},
     "output_type": "execute_result"
    }
   ],
   "source": [
    "X_train, X_test, y_train, y_test = train_test_split(X_train, y_train, test_size=40, random_state=987654321)\n",
    "X_train.head()"
   ]
  },
  {
   "attachments": {},
   "cell_type": "markdown",
   "id": "4efc408c",
   "metadata": {},
   "source": [
    "## Pretrained Model\n",
    "Since we are using Hugging Face Transformers, we had many choices for pretrained models to use. After testing three different models - GPT-2, Albert-base-v2, and albert-large-v2 - we decided to use albert-base-v2. GPT-2 was too big for our system to handle, and we received an \"OOM\" (Out Of Memory) error, indicating that our GPU did not have enough memory to allocate the required tensor.\n",
    "\n",
    "### Model description : albert-base-v2 (A Lite BERT) \n",
    "For more information, see https://huggingface.co/albert-base-v2 \n",
    "\n",
    "ALBERT is a transformers model that was pretrained on a large corpus of English data in a self-supervised fashion. This means it was pretrained only on the raw texts, without any human labeling. ALBERT used an automatic process to generate inputs and labels from the texts. The original model has the following configuration: 12 repeating layers, 128 embedding dimensions, 768 hidden dimensions, 12 attention heads, and 11 million parameters."
   ]
  },
  {
   "cell_type": "code",
   "execution_count": 12,
   "id": "dc48f37b",
   "metadata": {},
   "outputs": [],
   "source": [
    "# Clearing Session\n",
    "tf.keras.backend.clear_session()\n",
    "tf.random.set_seed(987654321)\n",
    "np.random.seed(987654321)"
   ]
  },
  {
   "cell_type": "code",
   "execution_count": 13,
   "id": "5bf600d7",
   "metadata": {
    "scrolled": true
   },
   "outputs": [
    {
     "name": "stderr",
     "output_type": "stream",
     "text": [
      "All model checkpoint layers were used when initializing TFAlbertForSequenceClassification.\n",
      "\n",
      "Some layers of TFAlbertForSequenceClassification were not initialized from the model checkpoint at albert-base-v2 and are newly initialized: ['classifier']\n",
      "You should probably TRAIN this model on a down-stream task to be able to use it for predictions and inference.\n"
     ]
    }
   ],
   "source": [
    "# initializing a tokenizer and a pre-trained model for sequence classification using the ALBERT-base-v2 architecture\n",
    "tokenizer = AutoTokenizer.from_pretrained(\"albert-base-v2\")\n",
    "\n",
    "model = TFAutoModelForSequenceClassification.from_pretrained(\"albert-base-v2\")"
   ]
  },
  {
   "attachments": {},
   "cell_type": "markdown",
   "id": "f26d0661",
   "metadata": {},
   "source": [
    "### Preprocesiing\n",
    "#### We used the AutoTokenizer from Hugging Face Transformers"
   ]
  },
  {
   "cell_type": "code",
   "execution_count": 14,
   "id": "7ee4adae",
   "metadata": {},
   "outputs": [],
   "source": [
    "#tokenizing the input sentences using the tokenizer object\n",
    "X_train = dict(tokenizer([str(i) for i in X_train['sentence']], return_tensors='np', padding=True))\n",
    "X_test = dict(tokenizer([str(i) for i in X_test['sentence']], return_tensors='np', padding=True))"
   ]
  },
  {
   "attachments": {},
   "cell_type": "markdown",
   "id": "e84f912b",
   "metadata": {},
   "source": [
    "### Compiling the model"
   ]
  },
  {
   "cell_type": "code",
   "execution_count": 15,
   "id": "3167d88c",
   "metadata": {
    "scrolled": false
   },
   "outputs": [
    {
     "name": "stderr",
     "output_type": "stream",
     "text": [
      "No loss specified in compile() - the model's internal loss computation will be used as the loss. Don't panic - this is a common way to train TensorFlow models in Transformers! To disable this behaviour please pass a loss argument, or explicitly pass `loss=None` if you do not want your model to compute a loss.\n"
     ]
    },
    {
     "name": "stdout",
     "output_type": "stream",
     "text": [
      "Epoch 1/4\n",
      "2/2 [==============================] - 11s 686ms/step - loss: 0.7562\n",
      "Epoch 2/4\n",
      "2/2 [==============================] - 1s 499ms/step - loss: 0.6243\n",
      "Epoch 3/4\n",
      "2/2 [==============================] - 1s 499ms/step - loss: 0.5615\n",
      "Epoch 4/4\n",
      "2/2 [==============================] - 1s 500ms/step - loss: 0.4763\n"
     ]
    },
    {
     "data": {
      "text/plain": [
       "<keras.callbacks.History at 0x7fac94140b90>"
      ]
     },
     "execution_count": 15,
     "metadata": {},
     "output_type": "execute_result"
    }
   ],
   "source": [
    "# This will compile and train the pre-trained model for sequence classification using the Adam optimizer \n",
    "# with a learning rate of 1e-5.\n",
    "model.compile(optimizer=Adam(1e-5))\n",
    "model.fit(X_train, y_train,epochs=4, batch_size=80)"
   ]
  },
  {
   "attachments": {},
   "cell_type": "markdown",
   "id": "df964969",
   "metadata": {},
   "source": [
    "###  Predictions using the Trained model"
   ]
  },
  {
   "cell_type": "code",
   "execution_count": 16,
   "id": "a6dbdf03",
   "metadata": {},
   "outputs": [
    {
     "name": "stdout",
     "output_type": "stream",
     "text": [
      "2/2 [==============================] - 2s 64ms/step\n"
     ]
    }
   ],
   "source": [
    "# Now, we will use trained model to make predictions on the test set X_test \n",
    "preds = model.predict(X_test)[\"logits\"]"
   ]
  },
  {
   "cell_type": "code",
   "execution_count": 17,
   "id": "ca03de23",
   "metadata": {},
   "outputs": [],
   "source": [
    "y_pred = np.argmax(preds, axis=1)"
   ]
  },
  {
   "attachments": {},
   "cell_type": "markdown",
   "id": "44d3200d",
   "metadata": {},
   "source": [
    "### Calculating the test Accuracy"
   ]
  },
  {
   "cell_type": "code",
   "execution_count": 18,
   "id": "9fde0f28",
   "metadata": {},
   "outputs": [
    {
     "data": {
      "text/plain": [
       "{'accuracy': 0.8}"
      ]
     },
     "execution_count": 18,
     "metadata": {},
     "output_type": "execute_result"
    }
   ],
   "source": [
    "metric = evaluate.load('accuracy')\n",
    "metric.compute(predictions=y_pred, references=np.array(y_test))"
   ]
  },
  {
   "attachments": {},
   "cell_type": "markdown",
   "id": "70fd0343",
   "metadata": {},
   "source": [
    "### Observation \n",
    "We can see here that when we compile the model with 4 epochs, the training loss is reduced at each step.\n",
    "When we calculate the accuracy, we get 80% accuracy. \n",
    "If we increase the epochs, we can potentially obtain better accuracy, but there is also a risk of overfitting the model.\n",
    "Hence, we will test the model with epoch = 10 to further evaluate its performance."
   ]
  },
  {
   "attachments": {},
   "cell_type": "markdown",
   "id": "7fa84c40",
   "metadata": {},
   "source": [
    "### Re running with better parameters"
   ]
  },
  {
   "cell_type": "code",
   "execution_count": 19,
   "id": "9cf7aadf",
   "metadata": {},
   "outputs": [],
   "source": [
    "# Clearing Session\n",
    "tf.keras.backend.clear_session()\n",
    "tf.random.set_seed(987654321)\n",
    "np.random.seed(987654321)"
   ]
  },
  {
   "cell_type": "code",
   "execution_count": 20,
   "id": "bd5f49bf",
   "metadata": {
    "scrolled": false
   },
   "outputs": [
    {
     "name": "stderr",
     "output_type": "stream",
     "text": [
      "No loss specified in compile() - the model's internal loss computation will be used as the loss. Don't panic - this is a common way to train TensorFlow models in Transformers! To disable this behaviour please pass a loss argument, or explicitly pass `loss=None` if you do not want your model to compute a loss.\n"
     ]
    },
    {
     "name": "stdout",
     "output_type": "stream",
     "text": [
      "Epoch 1/10\n",
      "2/2 [==============================] - 8s 499ms/step - loss: 0.4345\n",
      "Epoch 2/10\n",
      "2/2 [==============================] - 1s 496ms/step - loss: 0.3689\n",
      "Epoch 3/10\n",
      "2/2 [==============================] - 1s 496ms/step - loss: 0.3071\n",
      "Epoch 4/10\n",
      "2/2 [==============================] - 1s 496ms/step - loss: 0.2547\n",
      "Epoch 5/10\n",
      "2/2 [==============================] - 1s 496ms/step - loss: 0.2251\n",
      "Epoch 6/10\n",
      "2/2 [==============================] - 1s 498ms/step - loss: 0.1863\n",
      "Epoch 7/10\n",
      "2/2 [==============================] - 1s 498ms/step - loss: 0.1644\n",
      "Epoch 8/10\n",
      "2/2 [==============================] - 1s 498ms/step - loss: 0.1433\n",
      "Epoch 9/10\n",
      "2/2 [==============================] - 1s 498ms/step - loss: 0.1232\n",
      "Epoch 10/10\n",
      "2/2 [==============================] - 1s 500ms/step - loss: 0.1097\n"
     ]
    },
    {
     "data": {
      "text/plain": [
       "<keras.callbacks.History at 0x7fac504f1b90>"
      ]
     },
     "execution_count": 20,
     "metadata": {},
     "output_type": "execute_result"
    }
   ],
   "source": [
    "model.compile(optimizer=Adam(1e-5))\n",
    "model.fit(X_train, y_train,epochs=10, batch_size=80)"
   ]
  },
  {
   "cell_type": "code",
   "execution_count": 21,
   "id": "2c7f564c",
   "metadata": {},
   "outputs": [
    {
     "name": "stdout",
     "output_type": "stream",
     "text": [
      "2/2 [==============================] - 2s 64ms/step\n"
     ]
    },
    {
     "data": {
      "text/plain": [
       "{'accuracy': 0.9}"
      ]
     },
     "execution_count": 21,
     "metadata": {},
     "output_type": "execute_result"
    }
   ],
   "source": [
    "preds = model.predict(X_test)[\"logits\"]\n",
    "y_pred = np.argmax(preds, axis=1)\n",
    "metric = evaluate.load('accuracy')\n",
    "metric.compute(predictions=y_pred, references=np.array(y_test))"
   ]
  },
  {
   "attachments": {},
   "cell_type": "markdown",
   "id": "836001c4",
   "metadata": {},
   "source": [
    "### Conclusion:\n",
    "After training the model with 10 epochs, we observed a decrease in the training loss at each step. The accuracy obtained was 90%, which is higher than the accuracy obtained with 4 epochs. However, we could have achieved even higher accuracy if we had used a larger model."
   ]
  }
 ],
 "metadata": {
  "kernelspec": {
   "display_name": "Python 3 (ipykernel)",
   "language": "python",
   "name": "python3"
  },
  "language_info": {
   "codemirror_mode": {
    "name": "ipython",
    "version": 3
   },
   "file_extension": ".py",
   "mimetype": "text/x-python",
   "name": "python",
   "nbconvert_exporter": "python",
   "pygments_lexer": "ipython3",
   "version": "3.11.3"
  }
 },
 "nbformat": 4,
 "nbformat_minor": 5
}
